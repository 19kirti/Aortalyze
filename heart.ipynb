{
 "cells": [
  {
   "cell_type": "code",
   "execution_count": 1,
   "metadata": {},
   "outputs": [
    {
     "name": "stdout",
     "output_type": "stream",
     "text": [
      "Logistic Regression Accuracy: 0.87\n",
      "Random Forest Accuracy: 0.88\n",
      "Logistic Regression Report:\n",
      "               precision    recall  f1-score   support\n",
      "\n",
      "           0       0.90      0.79      0.84        82\n",
      "           1       0.85      0.93      0.89       102\n",
      "\n",
      "    accuracy                           0.87       184\n",
      "   macro avg       0.88      0.86      0.87       184\n",
      "weighted avg       0.87      0.87      0.87       184\n",
      "\n",
      "Random Forest Report:\n",
      "               precision    recall  f1-score   support\n",
      "\n",
      "           0       0.86      0.85      0.86        82\n",
      "           1       0.88      0.89      0.89       102\n",
      "\n",
      "    accuracy                           0.88       184\n",
      "   macro avg       0.87      0.87      0.87       184\n",
      "weighted avg       0.87      0.88      0.87       184\n",
      "\n",
      "Logistic Regression AUC: 0.86\n",
      "Random Forest AUC: 0.87\n",
      "Heart Disease Prediction (1=Risk, 0=No Risk): 1\n"
     ]
    },
    {
     "name": "stderr",
     "output_type": "stream",
     "text": [
      "c:\\Users\\ASUs\\OneDrive\\Desktop\\HeartPred\\venv\\Lib\\site-packages\\sklearn\\utils\\validation.py:2739: UserWarning: X does not have valid feature names, but StandardScaler was fitted with feature names\n",
      "  warnings.warn(\n"
     ]
    }
   ],
   "source": [
    "import pandas as pd # type: ignore\n",
    "import numpy as np  # type: ignore\n",
    "from sklearn.model_selection import train_test_split  # type: ignore\n",
    "from sklearn.preprocessing import StandardScaler, LabelEncoder  # type: ignore\n",
    "from sklearn.ensemble import RandomForestClassifier  # type: ignore\n",
    "from sklearn.linear_model import LogisticRegression  # type: ignore\n",
    "from sklearn.metrics import accuracy_score, classification_report, roc_auc_score  # type: ignore\n",
    "\n",
    "# Load the dataset\n",
    "df = pd.read_csv(\"heart.csv\")\n",
    "\n",
    "# Encode categorical variables\n",
    "categorical_cols = ['Sex', 'ChestPainType', 'RestingECG', 'ExerciseAngina', 'ST_Slope']\n",
    "le = LabelEncoder()\n",
    "for col in categorical_cols:\n",
    "    df[col] = le.fit_transform(df[col])\n",
    "\n",
    "# Split features and target\n",
    "X = df.drop(columns=[\"HeartDisease\"])  # Features\n",
    "y = df[\"HeartDisease\"]  # Target\n",
    "\n",
    "# Standardize numerical features\n",
    "scaler = StandardScaler()\n",
    "X_scaled = scaler.fit_transform(X)\n",
    "\n",
    "# Train-test split\n",
    "X_train, X_test, y_train, y_test = train_test_split(X_scaled, y, test_size=0.2, random_state=42, stratify=y)\n",
    "\n",
    "# Train Logistic Regression Model\n",
    "log_model = LogisticRegression()\n",
    "log_model.fit(X_train, y_train)\n",
    "\n",
    "# Train Random Forest Model\n",
    "rf_model = RandomForestClassifier(n_estimators=100, random_state=42)\n",
    "rf_model.fit(X_train, y_train)\n",
    "\n",
    "# Model Evaluation\n",
    "log_pred = log_model.predict(X_test)\n",
    "rf_pred = rf_model.predict(X_test)\n",
    "\n",
    "print(f\"Logistic Regression Accuracy: {accuracy_score(y_test, log_pred):.2f}\")\n",
    "print(f\"Random Forest Accuracy: {accuracy_score(y_test, rf_pred):.2f}\")\n",
    "print(\"Logistic Regression Report:\\n\", classification_report(y_test, log_pred))\n",
    "print(\"Random Forest Report:\\n\", classification_report(y_test, rf_pred))\n",
    "print(f\"Logistic Regression AUC: {roc_auc_score(y_test, log_pred):.2f}\")\n",
    "print(f\"Random Forest AUC: {roc_auc_score(y_test, rf_pred):.2f}\")\n",
    "\n",
    "# Predict on New Data\n",
    "new_data = np.array([[60, 1, 2, 130, 200, 1, 1, 150, 1, 2.5, 1]])  # Example values\n",
    "new_data_scaled = scaler.transform(new_data)\n",
    "prediction = rf_model.predict(new_data_scaled)\n",
    "print(\"Heart Disease Prediction (1=Risk, 0=No Risk):\", prediction[0])\n",
    "\n",
    "\n",
    "\n"
   ]
  },
  {
   "cell_type": "code",
   "execution_count": 2,
   "metadata": {},
   "outputs": [
    {
     "data": {
      "text/plain": [
       "['label_encoder.pkl']"
      ]
     },
     "execution_count": 2,
     "metadata": {},
     "output_type": "execute_result"
    }
   ],
   "source": [
    "import joblib\n",
    "\n",
    "# Save the Random Forest model\n",
    "joblib.dump(rf_model, 'rf_model.pkl')\n",
    "\n",
    "# Save the Label Encoder\n",
    "joblib.dump(le, 'label_encoder.pkl')"
   ]
  },
  {
   "cell_type": "code",
   "execution_count": 3,
   "metadata": {},
   "outputs": [
    {
     "name": "stdout",
     "output_type": "stream",
     "text": [
      "Heart Disease Prediction (1=Risk, 0=No Risk): 0\n"
     ]
    }
   ],
   "source": [
    "# New data for prediction\n",
    "new_data = pd.DataFrame({\n",
    "    'Age': [40],\n",
    "    'Sex': ['F'],\n",
    "    'ChestPainType': ['ATA'],\n",
    "    'RestingBP': [140],\n",
    "    'Cholesterol': [289],\n",
    "    'FastingBS': [0],\n",
    "    'RestingECG': ['Normal'],\n",
    "    'MaxHR': [172],\n",
    "    'ExerciseAngina': ['N'],\n",
    "    'Oldpeak': [0],\n",
    "    'ST_Slope': ['Up']\n",
    "})\n",
    "\n",
    "# Encode categorical variables in the new data\n",
    "for col in categorical_cols:\n",
    "    if col in new_data.columns:\n",
    "        new_data[col] = new_data[col].map(lambda s: 'Unknown' if s not in le.classes_ else s)\n",
    "        le.classes_ = np.append(le.classes_, 'Unknown')\n",
    "        new_data[col] = le.transform(new_data[col])\n",
    "\n",
    "# Convert to numeric type\n",
    "new_data_encoded = new_data.astype(float)\n",
    "\n",
    "# Standardize the new data\n",
    "new_data_scaled = scaler.transform(new_data_encoded)\n",
    "\n",
    "# Predict using the Random Forest model\n",
    "prediction = rf_model.predict(new_data_scaled)\n",
    "print(\"Heart Disease Prediction (1=Risk, 0=No Risk):\", prediction[0])"
   ]
  }
 ],
 "metadata": {
  "kernelspec": {
   "display_name": "Python 3",
   "language": "python",
   "name": "python3"
  },
  "language_info": {
   "codemirror_mode": {
    "name": "ipython",
    "version": 3
   },
   "file_extension": ".py",
   "mimetype": "text/x-python",
   "name": "python",
   "nbconvert_exporter": "python",
   "pygments_lexer": "ipython3",
   "version": "3.12.7"
  }
 },
 "nbformat": 4,
 "nbformat_minor": 2
}
